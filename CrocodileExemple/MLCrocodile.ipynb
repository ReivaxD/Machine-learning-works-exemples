{
 "cells": [
  {
   "cell_type": "markdown",
   "id": "9720c719",
   "metadata": {},
   "source": [
    "## Import"
   ]
  },
  {
   "cell_type": "code",
   "execution_count": 61,
   "id": "b2988a4f",
   "metadata": {},
   "outputs": [],
   "source": [
    "import pandas as pd\n",
    "from sklearn.preprocessing import StandardScaler\n",
    "from sklearn.linear_model import LogisticRegression\n",
    "from sklearn.model_selection import train_test_split"
   ]
  },
  {
   "cell_type": "markdown",
   "id": "cf3f8501",
   "metadata": {},
   "source": [
    "## Loading data"
   ]
  },
  {
   "cell_type": "code",
   "execution_count": 62,
   "id": "79cf874c",
   "metadata": {},
   "outputs": [
    {
     "data": {
      "text/html": [
       "<div>\n",
       "<style scoped>\n",
       "    .dataframe tbody tr th:only-of-type {\n",
       "        vertical-align: middle;\n",
       "    }\n",
       "\n",
       "    .dataframe tbody tr th {\n",
       "        vertical-align: top;\n",
       "    }\n",
       "\n",
       "    .dataframe thead th {\n",
       "        text-align: right;\n",
       "    }\n",
       "</style>\n",
       "<table border=\"1\" class=\"dataframe\">\n",
       "  <thead>\n",
       "    <tr style=\"text-align: right;\">\n",
       "      <th></th>\n",
       "      <th>Observation ID</th>\n",
       "      <th>Common Name</th>\n",
       "      <th>Scientific Name</th>\n",
       "      <th>Family</th>\n",
       "      <th>Genus</th>\n",
       "      <th>Observed Length (m)</th>\n",
       "      <th>Observed Weight (kg)</th>\n",
       "      <th>Age Class</th>\n",
       "      <th>Sex</th>\n",
       "      <th>Date of Observation</th>\n",
       "      <th>Country/Region</th>\n",
       "      <th>Habitat Type</th>\n",
       "      <th>Conservation Status</th>\n",
       "      <th>Observer Name</th>\n",
       "      <th>Notes</th>\n",
       "    </tr>\n",
       "  </thead>\n",
       "  <tbody>\n",
       "    <tr>\n",
       "      <th>0</th>\n",
       "      <td>1</td>\n",
       "      <td>Morelet's Crocodile</td>\n",
       "      <td>Crocodylus moreletii</td>\n",
       "      <td>Crocodylidae</td>\n",
       "      <td>Crocodylus</td>\n",
       "      <td>1.90</td>\n",
       "      <td>62.0</td>\n",
       "      <td>Adult</td>\n",
       "      <td>Male</td>\n",
       "      <td>31-03-2018</td>\n",
       "      <td>Belize</td>\n",
       "      <td>Swamps</td>\n",
       "      <td>Least Concern</td>\n",
       "      <td>Allison Hill</td>\n",
       "      <td>Cause bill scientist nation opportunity.</td>\n",
       "    </tr>\n",
       "    <tr>\n",
       "      <th>1</th>\n",
       "      <td>2</td>\n",
       "      <td>American Crocodile</td>\n",
       "      <td>Crocodylus acutus</td>\n",
       "      <td>Crocodylidae</td>\n",
       "      <td>Crocodylus</td>\n",
       "      <td>4.09</td>\n",
       "      <td>334.5</td>\n",
       "      <td>Adult</td>\n",
       "      <td>Male</td>\n",
       "      <td>28-01-2015</td>\n",
       "      <td>Venezuela</td>\n",
       "      <td>Mangroves</td>\n",
       "      <td>Vulnerable</td>\n",
       "      <td>Brandon Hall</td>\n",
       "      <td>Ago current practice nation determine operatio...</td>\n",
       "    </tr>\n",
       "    <tr>\n",
       "      <th>2</th>\n",
       "      <td>3</td>\n",
       "      <td>Orinoco Crocodile</td>\n",
       "      <td>Crocodylus intermedius</td>\n",
       "      <td>Crocodylidae</td>\n",
       "      <td>Crocodylus</td>\n",
       "      <td>1.08</td>\n",
       "      <td>118.2</td>\n",
       "      <td>Juvenile</td>\n",
       "      <td>Unknown</td>\n",
       "      <td>07-12-2010</td>\n",
       "      <td>Venezuela</td>\n",
       "      <td>Flooded Savannas</td>\n",
       "      <td>Critically Endangered</td>\n",
       "      <td>Melissa Peterson</td>\n",
       "      <td>Democratic shake bill here grow gas enough ana...</td>\n",
       "    </tr>\n",
       "    <tr>\n",
       "      <th>3</th>\n",
       "      <td>4</td>\n",
       "      <td>Morelet's Crocodile</td>\n",
       "      <td>Crocodylus moreletii</td>\n",
       "      <td>Crocodylidae</td>\n",
       "      <td>Crocodylus</td>\n",
       "      <td>2.42</td>\n",
       "      <td>90.4</td>\n",
       "      <td>Adult</td>\n",
       "      <td>Male</td>\n",
       "      <td>01-11-2019</td>\n",
       "      <td>Mexico</td>\n",
       "      <td>Rivers</td>\n",
       "      <td>Least Concern</td>\n",
       "      <td>Edward Fuller</td>\n",
       "      <td>Officer relate animal direction eye bag do.</td>\n",
       "    </tr>\n",
       "    <tr>\n",
       "      <th>4</th>\n",
       "      <td>5</td>\n",
       "      <td>Mugger Crocodile (Marsh Crocodile)</td>\n",
       "      <td>Crocodylus palustris</td>\n",
       "      <td>Crocodylidae</td>\n",
       "      <td>Crocodylus</td>\n",
       "      <td>3.75</td>\n",
       "      <td>269.4</td>\n",
       "      <td>Adult</td>\n",
       "      <td>Unknown</td>\n",
       "      <td>15-07-2019</td>\n",
       "      <td>India</td>\n",
       "      <td>Rivers</td>\n",
       "      <td>Vulnerable</td>\n",
       "      <td>Donald Reid</td>\n",
       "      <td>Class great prove reduce raise author play mov...</td>\n",
       "    </tr>\n",
       "  </tbody>\n",
       "</table>\n",
       "</div>"
      ],
      "text/plain": [
       "   Observation ID                         Common Name         Scientific Name  \\\n",
       "0               1                 Morelet's Crocodile    Crocodylus moreletii   \n",
       "1               2                  American Crocodile       Crocodylus acutus   \n",
       "2               3                   Orinoco Crocodile  Crocodylus intermedius   \n",
       "3               4                 Morelet's Crocodile    Crocodylus moreletii   \n",
       "4               5  Mugger Crocodile (Marsh Crocodile)    Crocodylus palustris   \n",
       "\n",
       "         Family       Genus  Observed Length (m)  Observed Weight (kg)  \\\n",
       "0  Crocodylidae  Crocodylus                 1.90                  62.0   \n",
       "1  Crocodylidae  Crocodylus                 4.09                 334.5   \n",
       "2  Crocodylidae  Crocodylus                 1.08                 118.2   \n",
       "3  Crocodylidae  Crocodylus                 2.42                  90.4   \n",
       "4  Crocodylidae  Crocodylus                 3.75                 269.4   \n",
       "\n",
       "  Age Class      Sex Date of Observation Country/Region      Habitat Type  \\\n",
       "0     Adult     Male          31-03-2018         Belize            Swamps   \n",
       "1     Adult     Male          28-01-2015      Venezuela         Mangroves   \n",
       "2  Juvenile  Unknown          07-12-2010      Venezuela  Flooded Savannas   \n",
       "3     Adult     Male          01-11-2019         Mexico            Rivers   \n",
       "4     Adult  Unknown          15-07-2019          India            Rivers   \n",
       "\n",
       "     Conservation Status     Observer Name  \\\n",
       "0          Least Concern      Allison Hill   \n",
       "1             Vulnerable      Brandon Hall   \n",
       "2  Critically Endangered  Melissa Peterson   \n",
       "3          Least Concern     Edward Fuller   \n",
       "4             Vulnerable       Donald Reid   \n",
       "\n",
       "                                               Notes  \n",
       "0           Cause bill scientist nation opportunity.  \n",
       "1  Ago current practice nation determine operatio...  \n",
       "2  Democratic shake bill here grow gas enough ana...  \n",
       "3        Officer relate animal direction eye bag do.  \n",
       "4  Class great prove reduce raise author play mov...  "
      ]
     },
     "execution_count": 62,
     "metadata": {},
     "output_type": "execute_result"
    }
   ],
   "source": [
    "df = pd.read_csv(\"crocodile_dataset.csv\")\n",
    "df.head(5)"
   ]
  },
  {
   "cell_type": "markdown",
   "id": "8d7b35b3",
   "metadata": {},
   "source": [
    "## Data analysis"
   ]
  },
  {
   "cell_type": "code",
   "execution_count": 63,
   "id": "dad31e8b",
   "metadata": {},
   "outputs": [
    {
     "name": "stdout",
     "output_type": "stream",
     "text": [
      "Observation ID            int64\n",
      "Common Name              object\n",
      "Scientific Name          object\n",
      "Family                   object\n",
      "Genus                    object\n",
      "Observed Length (m)     float64\n",
      "Observed Weight (kg)    float64\n",
      "Age Class                object\n",
      "Sex                      object\n",
      "Date of Observation      object\n",
      "Country/Region           object\n",
      "Habitat Type             object\n",
      "Conservation Status      object\n",
      "Observer Name            object\n",
      "Notes                    object\n",
      "dtype: object\n",
      "Observation ID          0\n",
      "Common Name             0\n",
      "Scientific Name         0\n",
      "Family                  0\n",
      "Genus                   0\n",
      "Observed Length (m)     0\n",
      "Observed Weight (kg)    0\n",
      "Age Class               0\n",
      "Sex                     0\n",
      "Date of Observation     0\n",
      "Country/Region          0\n",
      "Habitat Type            0\n",
      "Conservation Status     0\n",
      "Observer Name           0\n",
      "Notes                   0\n",
      "dtype: int64\n"
     ]
    }
   ],
   "source": [
    "#print(df.astype)\n",
    "print(df.dtypes)\n",
    "#print(df.shape)\n",
    "print(df.isna().sum())"
   ]
  },
  {
   "cell_type": "markdown",
   "id": "741fb5c8",
   "metadata": {},
   "source": [
    "## Data cleaning"
   ]
  },
  {
   "cell_type": "code",
   "execution_count": 64,
   "id": "2274c212",
   "metadata": {},
   "outputs": [
    {
     "data": {
      "text/plain": [
       "Index(['Common Name', 'Scientific Name', 'Family', 'Genus',\n",
       "       'Observed Length (m)', 'Observed Weight (kg)', 'Age Class', 'Sex',\n",
       "       'Date of Observation', 'Country/Region', 'Habitat Type',\n",
       "       'Conservation Status', 'Observer Name', 'Notes'],\n",
       "      dtype='object')"
      ]
     },
     "execution_count": 64,
     "metadata": {},
     "output_type": "execute_result"
    }
   ],
   "source": [
    "id = df[\"Observation ID\"].copy()\n",
    "y_train = df[\"Scientific Name\"].copy()\n",
    "df = df.drop(['Observation ID'], axis=1)\n",
    "\n",
    "df.head(5)\n",
    "df.columns"
   ]
  },
  {
   "cell_type": "code",
   "execution_count": null,
   "id": "e4c4c616",
   "metadata": {},
   "outputs": [
    {
     "ename": "KeyError",
     "evalue": "\"None of [Index(['Family', 'Genus', 'Age Class', 'Sex', 'Country/Region', 'Habitat Type',\\n       'Conservation Status'],\\n      dtype='object')] are in the [columns]\"",
     "output_type": "error",
     "traceback": [
      "\u001b[31m---------------------------------------------------------------------------\u001b[39m",
      "\u001b[31mKeyError\u001b[39m                                  Traceback (most recent call last)",
      "\u001b[36mCell\u001b[39m\u001b[36m \u001b[39m\u001b[32mIn[76]\u001b[39m\u001b[32m, line 7\u001b[39m\n\u001b[32m      4\u001b[39m obj = df.select_dtypes(include=[\u001b[33m'\u001b[39m\u001b[33mcategory\u001b[39m\u001b[33m'\u001b[39m]).columns\n\u001b[32m      5\u001b[39m dfDummies = pd.get_dummies(df, columns=obj, drop_first=\u001b[38;5;28;01mTrue\u001b[39;00m)\n\u001b[32m----> \u001b[39m\u001b[32m7\u001b[39m \u001b[43mdfDummies\u001b[49m\u001b[43m[\u001b[49m\u001b[43m[\u001b[49m\u001b[33;43m'\u001b[39;49m\u001b[33;43mFamily\u001b[39;49m\u001b[33;43m'\u001b[39;49m\u001b[43m,\u001b[49m\u001b[43m \u001b[49m\u001b[33;43m'\u001b[39;49m\u001b[33;43mGenus\u001b[39;49m\u001b[33;43m'\u001b[39;49m\u001b[43m,\u001b[49m\u001b[43m \u001b[49m\u001b[33;43m'\u001b[39;49m\u001b[33;43mAge Class\u001b[39;49m\u001b[33;43m'\u001b[39;49m\u001b[43m,\u001b[49m\u001b[43m \u001b[49m\u001b[33;43m'\u001b[39;49m\u001b[33;43mSex\u001b[39;49m\u001b[33;43m'\u001b[39;49m\u001b[43m,\u001b[49m\u001b[43m \u001b[49m\u001b[33;43m'\u001b[39;49m\u001b[33;43mCountry/Region\u001b[39;49m\u001b[33;43m'\u001b[39;49m\u001b[43m,\u001b[49m\u001b[43m \u001b[49m\u001b[33;43m'\u001b[39;49m\u001b[33;43mHabitat Type\u001b[39;49m\u001b[33;43m'\u001b[39;49m\u001b[43m,\u001b[49m\u001b[43m \u001b[49m\u001b[33;43m'\u001b[39;49m\u001b[33;43mConservation Status\u001b[39;49m\u001b[33;43m'\u001b[39;49m\u001b[43m]\u001b[49m\u001b[43m]\u001b[49m.head(\u001b[32m5\u001b[39m)\n",
      "\u001b[36mFile \u001b[39m\u001b[32m~\\AppData\\Local\\Packages\\PythonSoftwareFoundation.Python.3.11_qbz5n2kfra8p0\\LocalCache\\local-packages\\Python311\\site-packages\\pandas\\core\\frame.py:4113\u001b[39m, in \u001b[36mDataFrame.__getitem__\u001b[39m\u001b[34m(self, key)\u001b[39m\n\u001b[32m   4111\u001b[39m     \u001b[38;5;28;01mif\u001b[39;00m is_iterator(key):\n\u001b[32m   4112\u001b[39m         key = \u001b[38;5;28mlist\u001b[39m(key)\n\u001b[32m-> \u001b[39m\u001b[32m4113\u001b[39m     indexer = \u001b[38;5;28;43mself\u001b[39;49m\u001b[43m.\u001b[49m\u001b[43mcolumns\u001b[49m\u001b[43m.\u001b[49m\u001b[43m_get_indexer_strict\u001b[49m\u001b[43m(\u001b[49m\u001b[43mkey\u001b[49m\u001b[43m,\u001b[49m\u001b[43m \u001b[49m\u001b[33;43m\"\u001b[39;49m\u001b[33;43mcolumns\u001b[39;49m\u001b[33;43m\"\u001b[39;49m\u001b[43m)\u001b[49m[\u001b[32m1\u001b[39m]\n\u001b[32m   4115\u001b[39m \u001b[38;5;66;03m# take() does not accept boolean indexers\u001b[39;00m\n\u001b[32m   4116\u001b[39m \u001b[38;5;28;01mif\u001b[39;00m \u001b[38;5;28mgetattr\u001b[39m(indexer, \u001b[33m\"\u001b[39m\u001b[33mdtype\u001b[39m\u001b[33m\"\u001b[39m, \u001b[38;5;28;01mNone\u001b[39;00m) == \u001b[38;5;28mbool\u001b[39m:\n",
      "\u001b[36mFile \u001b[39m\u001b[32m~\\AppData\\Local\\Packages\\PythonSoftwareFoundation.Python.3.11_qbz5n2kfra8p0\\LocalCache\\local-packages\\Python311\\site-packages\\pandas\\core\\indexes\\base.py:6212\u001b[39m, in \u001b[36mIndex._get_indexer_strict\u001b[39m\u001b[34m(self, key, axis_name)\u001b[39m\n\u001b[32m   6209\u001b[39m \u001b[38;5;28;01melse\u001b[39;00m:\n\u001b[32m   6210\u001b[39m     keyarr, indexer, new_indexer = \u001b[38;5;28mself\u001b[39m._reindex_non_unique(keyarr)\n\u001b[32m-> \u001b[39m\u001b[32m6212\u001b[39m \u001b[38;5;28;43mself\u001b[39;49m\u001b[43m.\u001b[49m\u001b[43m_raise_if_missing\u001b[49m\u001b[43m(\u001b[49m\u001b[43mkeyarr\u001b[49m\u001b[43m,\u001b[49m\u001b[43m \u001b[49m\u001b[43mindexer\u001b[49m\u001b[43m,\u001b[49m\u001b[43m \u001b[49m\u001b[43maxis_name\u001b[49m\u001b[43m)\u001b[49m\n\u001b[32m   6214\u001b[39m keyarr = \u001b[38;5;28mself\u001b[39m.take(indexer)\n\u001b[32m   6215\u001b[39m \u001b[38;5;28;01mif\u001b[39;00m \u001b[38;5;28misinstance\u001b[39m(key, Index):\n\u001b[32m   6216\u001b[39m     \u001b[38;5;66;03m# GH 42790 - Preserve name from an Index\u001b[39;00m\n",
      "\u001b[36mFile \u001b[39m\u001b[32m~\\AppData\\Local\\Packages\\PythonSoftwareFoundation.Python.3.11_qbz5n2kfra8p0\\LocalCache\\local-packages\\Python311\\site-packages\\pandas\\core\\indexes\\base.py:6261\u001b[39m, in \u001b[36mIndex._raise_if_missing\u001b[39m\u001b[34m(self, key, indexer, axis_name)\u001b[39m\n\u001b[32m   6259\u001b[39m \u001b[38;5;28;01mif\u001b[39;00m nmissing:\n\u001b[32m   6260\u001b[39m     \u001b[38;5;28;01mif\u001b[39;00m nmissing == \u001b[38;5;28mlen\u001b[39m(indexer):\n\u001b[32m-> \u001b[39m\u001b[32m6261\u001b[39m         \u001b[38;5;28;01mraise\u001b[39;00m \u001b[38;5;167;01mKeyError\u001b[39;00m(\u001b[33mf\u001b[39m\u001b[33m\"\u001b[39m\u001b[33mNone of [\u001b[39m\u001b[38;5;132;01m{\u001b[39;00mkey\u001b[38;5;132;01m}\u001b[39;00m\u001b[33m] are in the [\u001b[39m\u001b[38;5;132;01m{\u001b[39;00maxis_name\u001b[38;5;132;01m}\u001b[39;00m\u001b[33m]\u001b[39m\u001b[33m\"\u001b[39m)\n\u001b[32m   6263\u001b[39m     not_found = \u001b[38;5;28mlist\u001b[39m(ensure_index(key)[missing_mask.nonzero()[\u001b[32m0\u001b[39m]].unique())\n\u001b[32m   6264\u001b[39m     \u001b[38;5;28;01mraise\u001b[39;00m \u001b[38;5;167;01mKeyError\u001b[39;00m(\u001b[33mf\u001b[39m\u001b[33m\"\u001b[39m\u001b[38;5;132;01m{\u001b[39;00mnot_found\u001b[38;5;132;01m}\u001b[39;00m\u001b[33m not in index\u001b[39m\u001b[33m\"\u001b[39m)\n",
      "\u001b[31mKeyError\u001b[39m: \"None of [Index(['Family', 'Genus', 'Age Class', 'Sex', 'Country/Region', 'Habitat Type',\\n       'Conservation Status'],\\n      dtype='object')] are in the [columns]\""
     ]
    }
   ],
   "source": [
    "df = df.astype({'Family': 'category', 'Genus': 'category', 'Age Class': 'category', 'Sex': 'category', 'Country/Region': 'category', 'Habitat Type': 'category', 'Conservation Status': 'category'})\n",
    "catList = ['Family', 'Genus', 'Age Class', 'Sex', 'Country/Region', 'Habitat Type', 'Conservation Status']\n",
    "dfCat = df[catList].copy()\n",
    "\n",
    "dfDummies = pd.get_dummies(dfCat, columns=catList, drop_first=True)\n",
    "\n",
    "dfDummies.head(5)"
   ]
  }
 ],
 "metadata": {
  "kernelspec": {
   "display_name": "Python 3",
   "language": "python",
   "name": "python3"
  },
  "language_info": {
   "codemirror_mode": {
    "name": "ipython",
    "version": 3
   },
   "file_extension": ".py",
   "mimetype": "text/x-python",
   "name": "python",
   "nbconvert_exporter": "python",
   "pygments_lexer": "ipython3",
   "version": "3.11.9"
  }
 },
 "nbformat": 4,
 "nbformat_minor": 5
}

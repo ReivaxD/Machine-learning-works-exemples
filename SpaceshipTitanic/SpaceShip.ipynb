{
 "cells": [
  {
   "cell_type": "markdown",
   "id": "d1061cad",
   "metadata": {},
   "source": [
    "## Imports"
   ]
  },
  {
   "cell_type": "code",
   "execution_count": 1,
   "id": "db3dd601",
   "metadata": {},
   "outputs": [],
   "source": [
    "import pandas as pd\n",
    "import numpy as np \n",
    "import matplotlib.pyplot as plt\n",
    "import seaborn as sns\n",
    "import tensorflow as tf"
   ]
  },
  {
   "cell_type": "markdown",
   "id": "aaa4bf02",
   "metadata": {},
   "source": [
    "## Path"
   ]
  },
  {
   "cell_type": "code",
   "execution_count": 2,
   "id": "9471f6ce",
   "metadata": {},
   "outputs": [],
   "source": [
    "## Paths\n",
    "data_folder = 'resources/data/'\n",
    "output_folder = 'output/'\n",
    "plots_folder = 'output/plots/'"
   ]
  },
  {
   "cell_type": "markdown",
   "id": "0395dee0",
   "metadata": {},
   "source": [
    "# Loading data"
   ]
  },
  {
   "cell_type": "code",
   "execution_count": null,
   "id": "f36087a9",
   "metadata": {},
   "outputs": [],
   "source": [
    "train = pd.read_csv(data_folder + \"train.csv\")\n",
    "test = pd.read_csv(data_folder + \"test.csv\")"
   ]
  },
  {
   "cell_type": "code",
   "execution_count": null,
   "id": "f122db4d",
   "metadata": {},
   "outputs": [],
   "source": [
    "y_train = train['Transported'].copy()\n",
    "train_ids = train['PassengerId'].copy()\n",
    "\n",
    "train = train.drop('Transported', axis=1)\n",
    "\n",
    "df = pd.concat([train, test], axis=0, ignore_index=True)"
   ]
  }
 ],
 "metadata": {
  "kernelspec": {
   "display_name": "Python 3",
   "language": "python",
   "name": "python3"
  },
  "language_info": {
   "codemirror_mode": {
    "name": "ipython",
    "version": 3
   },
   "file_extension": ".py",
   "mimetype": "text/x-python",
   "name": "python",
   "nbconvert_exporter": "python",
   "pygments_lexer": "ipython3",
   "version": "3.11.9"
  }
 },
 "nbformat": 4,
 "nbformat_minor": 5
}
